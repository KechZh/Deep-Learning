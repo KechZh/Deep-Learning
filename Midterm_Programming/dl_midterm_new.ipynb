{
 "cells": [
  {
   "cell_type": "code",
   "execution_count": 1,
   "metadata": {},
   "outputs": [
    {
     "name": "stderr",
     "output_type": "stream",
     "text": [
      "/usr/local/lib/python3.5/dist-packages/tensorflow/python/framework/dtypes.py:526: FutureWarning: Passing (type, 1) or '1type' as a synonym of type is deprecated; in a future version of numpy, it will be understood as (type, (1,)) / '(1,)type'.\n",
      "  _np_qint8 = np.dtype([(\"qint8\", np.int8, 1)])\n",
      "/usr/local/lib/python3.5/dist-packages/tensorflow/python/framework/dtypes.py:527: FutureWarning: Passing (type, 1) or '1type' as a synonym of type is deprecated; in a future version of numpy, it will be understood as (type, (1,)) / '(1,)type'.\n",
      "  _np_quint8 = np.dtype([(\"quint8\", np.uint8, 1)])\n",
      "/usr/local/lib/python3.5/dist-packages/tensorflow/python/framework/dtypes.py:528: FutureWarning: Passing (type, 1) or '1type' as a synonym of type is deprecated; in a future version of numpy, it will be understood as (type, (1,)) / '(1,)type'.\n",
      "  _np_qint16 = np.dtype([(\"qint16\", np.int16, 1)])\n",
      "/usr/local/lib/python3.5/dist-packages/tensorflow/python/framework/dtypes.py:529: FutureWarning: Passing (type, 1) or '1type' as a synonym of type is deprecated; in a future version of numpy, it will be understood as (type, (1,)) / '(1,)type'.\n",
      "  _np_quint16 = np.dtype([(\"quint16\", np.uint16, 1)])\n",
      "/usr/local/lib/python3.5/dist-packages/tensorflow/python/framework/dtypes.py:530: FutureWarning: Passing (type, 1) or '1type' as a synonym of type is deprecated; in a future version of numpy, it will be understood as (type, (1,)) / '(1,)type'.\n",
      "  _np_qint32 = np.dtype([(\"qint32\", np.int32, 1)])\n",
      "/usr/local/lib/python3.5/dist-packages/tensorflow/python/framework/dtypes.py:535: FutureWarning: Passing (type, 1) or '1type' as a synonym of type is deprecated; in a future version of numpy, it will be understood as (type, (1,)) / '(1,)type'.\n",
      "  np_resource = np.dtype([(\"resource\", np.ubyte, 1)])\n",
      "Using TensorFlow backend.\n"
     ]
    }
   ],
   "source": [
    "import numpy as np\n",
    "import os\n",
    "\n",
    "import pandas as pd\n",
    "import tensorflow as tf\n",
    "\n",
    "from tensorflow import keras\n",
    "from keras import Sequential, Input\n",
    "from keras.layers import Dense, BatchNormalization, Dropout, LSTM\n",
    "from keras.optimizers import Adam\n",
    "from keras.callbacks import LearningRateScheduler\n",
    "\n",
    "os.environ[\"CUDA_VISIBLE_DEVICES\"] = \"2\"\n",
    "gpu_options = tf.GPUOptions(per_process_gpu_memory_fraction=0.2)\n",
    "sess = tf.Session(config=tf.ConfigProto(gpu_options=gpu_options))"
   ]
  },
  {
   "cell_type": "code",
   "execution_count": 2,
   "metadata": {},
   "outputs": [],
   "source": [
    "vis = pd.read_csv('data/air_visit_data.csv')\n",
    "ares = pd.read_csv('data/air_reserve.csv')\n",
    "hres = pd.read_csv('data/hpg_reserve.csv')\n",
    "astore = pd.read_csv('data/air_store_info.csv')\n",
    "hstore = pd.read_csv('data/hpg_store_info.csv')\n",
    "sid = pd.read_csv('data/store_id_relation.csv')\n",
    "dinfo = pd.read_csv('data/date_info.csv')"
   ]
  },
  {
   "cell_type": "code",
   "execution_count": 3,
   "metadata": {},
   "outputs": [
    {
     "name": "stderr",
     "output_type": "stream",
     "text": [
      "/usr/local/lib/python3.5/dist-packages/pandas/core/frame.py:6692: FutureWarning: Sorting because non-concatenation axis is not aligned. A future version\n",
      "of pandas will change to not sort by default.\n",
      "\n",
      "To accept the future behavior, pass 'sort=False'.\n",
      "\n",
      "To retain the current behavior and silence the warning, pass 'sort=True'.\n",
      "\n",
      "  sort=sort)\n"
     ]
    }
   ],
   "source": [
    "ares = pd.merge(ares, sid, how = 'left', on = ['air_store_id'])\n",
    "hres = pd.merge(hres, sid, how = 'left', on = ['hpg_store_id'])\n",
    "res = ares.append(hres)\n",
    "\n",
    "res['visit_date'] = pd.to_datetime(res['visit_datetime']).dt.date\n",
    "\n",
    "res = res.groupby(['air_store_id', 'visit_date']).sum().reset_index()\n",
    "\n",
    "vis['visit_date'] = pd.to_datetime(vis['visit_date']).dt.date\n",
    "dinfo['visit_date'] = pd.to_datetime(dinfo['calendar_date']).dt.date\n",
    "\n",
    "data = pd.merge(res, vis, how = 'right', on = ['air_store_id', 'visit_date'])\n",
    "data = pd.merge(data, dinfo, how = 'left', on = ['visit_date'])\n",
    "data = pd.merge(data, astore, how = 'left', on = ['air_store_id'])\n",
    "\n",
    "# months = {\n",
    "#     1 : 'Jan',\n",
    "#     2 : 'Feb',\n",
    "#     3 : 'Mar',\n",
    "#     4 : 'Apr',\n",
    "#     5 : 'May',\n",
    "#     6 : 'Jun',\n",
    "#     7 : 'Jul',\n",
    "#     8 : 'Aug',\n",
    "#     9 : 'Sep',\n",
    "#     10 : 'Oct',\n",
    "#     11 : 'Nov',\n",
    "#     12 : 'Dec',\n",
    "# }\n",
    "\n",
    "data['year'] = pd.to_datetime(data['visit_date']).dt.year\n",
    "# data['month'] = pd.to_datetime(data['visit_date']).dt.month.map(months)\n",
    "\n",
    "data = pd.concat([data ,pd.get_dummies(data['air_genre_name'])], axis = 1)\n",
    "data = pd.concat([data ,pd.get_dummies(data['air_area_name'])], axis = 1)\n",
    "data = pd.concat([data ,pd.get_dummies(data['day_of_week'])], axis = 1)\n",
    "# data = pd.concat([data ,pd.get_dummies(data['month'])], axis = 1)\n",
    "\n",
    "data = data.fillna(0)\n",
    "data = data.drop(['air_store_id', 'latitude', 'longitude', 'visit_date', 'calendar_date', 'air_genre_name', 'air_area_name', 'day_of_week'], axis = 1)\n",
    "\n",
    "data['visitors'] = np.log1p(data['visitors'])"
   ]
  },
  {
   "cell_type": "code",
   "execution_count": 4,
   "metadata": {},
   "outputs": [],
   "source": [
    "train_X = data[data['year'] == 2016].drop(['visitors', 'year'], axis = 1)\n",
    "train_Y = data[data['year'] == 2016]['visitors']\n",
    "test_X = data[data['year'] == 2017].drop(['visitors', 'year'], axis = 1)\n",
    "test_Y = data[data['year'] == 2017]['visitors']"
   ]
  },
  {
   "cell_type": "code",
   "execution_count": 5,
   "metadata": {},
   "outputs": [
    {
     "name": "stdout",
     "output_type": "stream",
     "text": [
      "WARNING:tensorflow:From /usr/local/lib/python3.5/dist-packages/tensorflow/python/framework/op_def_library.py:263: colocate_with (from tensorflow.python.framework.ops) is deprecated and will be removed in a future version.\n",
      "Instructions for updating:\n",
      "Colocations handled automatically by placer.\n"
     ]
    }
   ],
   "source": [
    "model = Sequential()\n",
    "\n",
    "model.add(Dense(128, activation = 'relu', input_shape = (train_X.shape[1],)))\n",
    "model.add(Dense(64, activation = 'relu'))\n",
    "model.add(Dense(32, activation = 'relu'))\n",
    "model.add(Dense(16, activation = 'relu'))\n",
    "model.add(Dense(8, activation = 'relu'))\n",
    "model.add(Dense(1, activation = 'linear'))"
   ]
  },
  {
   "cell_type": "code",
   "execution_count": 6,
   "metadata": {},
   "outputs": [
    {
     "name": "stdout",
     "output_type": "stream",
     "text": [
      "WARNING:tensorflow:From /usr/local/lib/python3.5/dist-packages/tensorflow/python/ops/math_ops.py:3066: to_int32 (from tensorflow.python.ops.math_ops) is deprecated and will be removed in a future version.\n",
      "Instructions for updating:\n",
      "Use tf.cast instead.\n",
      "WARNING:tensorflow:Variable *= will be deprecated. Use `var.assign(var * other)` if you want assignment to the variable value or `x = x * y` if you want a new python Tensor object.\n",
      "Epoch 1/50\n",
      "174535/174535 [==============================] - 4s 23us/step - loss: 0.9512 - mean_squared_logarithmic_error: 0.1116\n",
      "Epoch 2/50\n",
      "174535/174535 [==============================] - 3s 16us/step - loss: 0.4961 - mean_squared_logarithmic_error: 0.0444\n",
      "Epoch 3/50\n",
      "174535/174535 [==============================] - 3s 16us/step - loss: 0.4796 - mean_squared_logarithmic_error: 0.0430\n",
      "Epoch 4/50\n",
      "174535/174535 [==============================] - 3s 16us/step - loss: 0.4733 - mean_squared_logarithmic_error: 0.0425\n",
      "Epoch 5/50\n",
      "174535/174535 [==============================] - 3s 16us/step - loss: 0.4701 - mean_squared_logarithmic_error: 0.0422\n",
      "Epoch 6/50\n",
      "174535/174535 [==============================] - 3s 16us/step - loss: 0.4673 - mean_squared_logarithmic_error: 0.0420\n",
      "Epoch 7/50\n",
      "174535/174535 [==============================] - 3s 16us/step - loss: 0.4648 - mean_squared_logarithmic_error: 0.0418\n",
      "Epoch 8/50\n",
      "174535/174535 [==============================] - 3s 16us/step - loss: 0.4635 - mean_squared_logarithmic_error: 0.0417\n",
      "Epoch 9/50\n",
      "174535/174535 [==============================] - 3s 16us/step - loss: 0.4620 - mean_squared_logarithmic_error: 0.0415\n",
      "Epoch 10/50\n",
      "174535/174535 [==============================] - 3s 16us/step - loss: 0.4618 - mean_squared_logarithmic_error: 0.0415\n",
      "Epoch 11/50\n",
      "174535/174535 [==============================] - 3s 16us/step - loss: 0.4599 - mean_squared_logarithmic_error: 0.0414\n",
      "Epoch 12/50\n",
      "174535/174535 [==============================] - 3s 17us/step - loss: 0.4599 - mean_squared_logarithmic_error: 0.0414\n",
      "Epoch 13/50\n",
      "174535/174535 [==============================] - 3s 18us/step - loss: 0.4587 - mean_squared_logarithmic_error: 0.0413\n",
      "Epoch 14/50\n",
      "174535/174535 [==============================] - 3s 19us/step - loss: 0.4581 - mean_squared_logarithmic_error: 0.0412\n",
      "Epoch 15/50\n",
      "174535/174535 [==============================] - 3s 19us/step - loss: 0.4575 - mean_squared_logarithmic_error: 0.0412\n",
      "Epoch 16/50\n",
      "174535/174535 [==============================] - 3s 18us/step - loss: 0.4567 - mean_squared_logarithmic_error: 0.0411\n",
      "Epoch 17/50\n",
      "174535/174535 [==============================] - 3s 19us/step - loss: 0.4558 - mean_squared_logarithmic_error: 0.0410\n",
      "Epoch 18/50\n",
      "174535/174535 [==============================] - 3s 19us/step - loss: 0.4553 - mean_squared_logarithmic_error: 0.0410\n",
      "Epoch 19/50\n",
      "174535/174535 [==============================] - 3s 18us/step - loss: 0.4554 - mean_squared_logarithmic_error: 0.0410\n",
      "Epoch 20/50\n",
      "174535/174535 [==============================] - 3s 19us/step - loss: 0.4550 - mean_squared_logarithmic_error: 0.0410\n",
      "Epoch 21/50\n",
      "174535/174535 [==============================] - 3s 19us/step - loss: 0.4551 - mean_squared_logarithmic_error: 0.0410\n",
      "Epoch 22/50\n",
      "174535/174535 [==============================] - 3s 19us/step - loss: 0.4537 - mean_squared_logarithmic_error: 0.0409\n",
      "Epoch 23/50\n",
      "174535/174535 [==============================] - 3s 18us/step - loss: 0.4542 - mean_squared_logarithmic_error: 0.0409\n",
      "Epoch 24/50\n",
      "174535/174535 [==============================] - 3s 19us/step - loss: 0.4537 - mean_squared_logarithmic_error: 0.0409\n",
      "Epoch 25/50\n",
      "174535/174535 [==============================] - 3s 19us/step - loss: 0.4544 - mean_squared_logarithmic_error: 0.0409\n",
      "Epoch 26/50\n",
      "174535/174535 [==============================] - 3s 19us/step - loss: 0.4527 - mean_squared_logarithmic_error: 0.0408\n",
      "Epoch 27/50\n",
      "174535/174535 [==============================] - 3s 19us/step - loss: 0.4527 - mean_squared_logarithmic_error: 0.0408\n",
      "Epoch 28/50\n",
      "174535/174535 [==============================] - 3s 19us/step - loss: 0.4527 - mean_squared_logarithmic_error: 0.0408\n",
      "Epoch 29/50\n",
      "174535/174535 [==============================] - 3s 19us/step - loss: 0.4527 - mean_squared_logarithmic_error: 0.0408\n",
      "Epoch 30/50\n",
      "174535/174535 [==============================] - 3s 18us/step - loss: 0.4522 - mean_squared_logarithmic_error: 0.0408\n",
      "Epoch 31/50\n",
      "174535/174535 [==============================] - 3s 19us/step - loss: 0.4518 - mean_squared_logarithmic_error: 0.0407\n",
      "Epoch 32/50\n",
      "174535/174535 [==============================] - 3s 19us/step - loss: 0.4523 - mean_squared_logarithmic_error: 0.0408\n",
      "Epoch 33/50\n",
      "174535/174535 [==============================] - 3s 19us/step - loss: 0.4517 - mean_squared_logarithmic_error: 0.0407\n",
      "Epoch 34/50\n",
      "174535/174535 [==============================] - 3s 18us/step - loss: 0.4516 - mean_squared_logarithmic_error: 0.0407\n",
      "Epoch 35/50\n",
      "174535/174535 [==============================] - 3s 18us/step - loss: 0.4511 - mean_squared_logarithmic_error: 0.0407\n",
      "Epoch 36/50\n",
      "174535/174535 [==============================] - 3s 18us/step - loss: 0.4510 - mean_squared_logarithmic_error: 0.0407\n",
      "Epoch 37/50\n",
      "174535/174535 [==============================] - 3s 18us/step - loss: 0.4508 - mean_squared_logarithmic_error: 0.0406\n",
      "Epoch 38/50\n",
      "174535/174535 [==============================] - 3s 18us/step - loss: 0.4507 - mean_squared_logarithmic_error: 0.0406\n",
      "Epoch 39/50\n",
      "174535/174535 [==============================] - 3s 18us/step - loss: 0.4510 - mean_squared_logarithmic_error: 0.0406\n",
      "Epoch 40/50\n",
      "174535/174535 [==============================] - 3s 18us/step - loss: 0.4504 - mean_squared_logarithmic_error: 0.0406\n",
      "Epoch 41/50\n",
      "174535/174535 [==============================] - 3s 18us/step - loss: 0.4501 - mean_squared_logarithmic_error: 0.0406\n",
      "Epoch 42/50\n",
      "174535/174535 [==============================] - 3s 18us/step - loss: 0.4500 - mean_squared_logarithmic_error: 0.0406\n",
      "Epoch 43/50\n",
      "174535/174535 [==============================] - 3s 19us/step - loss: 0.4503 - mean_squared_logarithmic_error: 0.0406\n",
      "Epoch 44/50\n",
      "174535/174535 [==============================] - 3s 19us/step - loss: 0.4498 - mean_squared_logarithmic_error: 0.0406\n",
      "Epoch 45/50\n",
      "174535/174535 [==============================] - 3s 19us/step - loss: 0.4495 - mean_squared_logarithmic_error: 0.0405\n",
      "Epoch 46/50\n",
      "174535/174535 [==============================] - 3s 19us/step - loss: 0.4499 - mean_squared_logarithmic_error: 0.0406\n",
      "Epoch 47/50\n",
      "174535/174535 [==============================] - 3s 19us/step - loss: 0.4496 - mean_squared_logarithmic_error: 0.0405\n",
      "Epoch 48/50\n",
      "174535/174535 [==============================] - 3s 19us/step - loss: 0.4492 - mean_squared_logarithmic_error: 0.0405\n",
      "Epoch 49/50\n",
      "174535/174535 [==============================] - 3s 19us/step - loss: 0.4495 - mean_squared_logarithmic_error: 0.0405\n",
      "Epoch 50/50\n",
      "174535/174535 [==============================] - 3s 18us/step - loss: 0.4493 - mean_squared_logarithmic_error: 0.0405\n"
     ]
    },
    {
     "data": {
      "text/plain": [
       "<keras.callbacks.History at 0x7fbd7c56cda0>"
      ]
     },
     "execution_count": 6,
     "metadata": {},
     "output_type": "execute_result"
    }
   ],
   "source": [
    "model.compile(loss = 'mse', optimizer = Adam(lr = 0.001, decay = 0.0001), metrics = ['mean_squared_logarithmic_error'])\n",
    "model.fit(x = train_X, y = train_Y, epochs = 50, batch_size = 512)"
   ]
  },
  {
   "cell_type": "code",
   "execution_count": 7,
   "metadata": {},
   "outputs": [
    {
     "name": "stdout",
     "output_type": "stream",
     "text": [
      "174535/174535 [==============================] - 13s 77us/step\n",
      "train RMSLE : 0.20150257430787544\n",
      "77573/77573 [==============================] - 6s 79us/step\n",
      "test RMSLE : 0.20777332834349885\n"
     ]
    }
   ],
   "source": [
    "pred = model.evaluate(x = train_X, y = train_Y)\n",
    "print('train RMSLE : ' + str(pred[1] ** 0.5))\n",
    "pred = model.evaluate(x = test_X, y = test_Y)\n",
    "print('test RMSLE : ' + str(pred[1] ** 0.5))"
   ]
  },
  {
   "cell_type": "code",
   "execution_count": null,
   "metadata": {},
   "outputs": [],
   "source": []
  }
 ],
 "metadata": {
  "kernelspec": {
   "display_name": "Python 3",
   "language": "python",
   "name": "python3"
  },
  "language_info": {
   "codemirror_mode": {
    "name": "ipython",
    "version": 3
   },
   "file_extension": ".py",
   "mimetype": "text/x-python",
   "name": "python",
   "nbconvert_exporter": "python",
   "pygments_lexer": "ipython3",
   "version": "3.5.2"
  }
 },
 "nbformat": 4,
 "nbformat_minor": 2
}
